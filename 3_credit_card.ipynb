{
  "nbformat": 4,
  "nbformat_minor": 0,
  "metadata": {
    "colab": {
      "name": "3.credit card.ipynb",
      "provenance": [],
      "authorship_tag": "ABX9TyPr5dVnQmHlYdd+47gCreLH",
      "include_colab_link": true
    },
    "kernelspec": {
      "name": "python3",
      "display_name": "Python 3"
    },
    "language_info": {
      "name": "python"
    }
  },
  "cells": [
    {
      "cell_type": "markdown",
      "metadata": {
        "id": "view-in-github",
        "colab_type": "text"
      },
      "source": [
        "<a href=\"https://colab.research.google.com/github/preeti607/ShapeAI_PYTHON_MACHINE_LEARNING/blob/main/3_credit_card.ipynb\" target=\"_parent\"><img src=\"https://colab.research.google.com/assets/colab-badge.svg\" alt=\"Open In Colab\"/></a>"
      ]
    },
    {
      "cell_type": "markdown",
      "metadata": {
        "id": "RRTS6qa8nGis"
      },
      "source": [
        "**Importing library**"
      ]
    },
    {
      "cell_type": "code",
      "metadata": {
        "id": "XeA1K0r8m639"
      },
      "source": [
        "import pandas as pd\n",
        "import numpy as np\n",
        "from sklearn.model_selection import train_test_split\n",
        "from sklearn.linear_model import LogisticRegression\n",
        "from sklearn.metrics import accuracy_score"
      ],
      "execution_count": 1,
      "outputs": []
    },
    {
      "cell_type": "markdown",
      "metadata": {
        "id": "l-C3dgQ9p85V"
      },
      "source": [
        "**Loading dataset**"
      ]
    },
    {
      "cell_type": "code",
      "metadata": {
        "id": "r07JvVuBnQcD"
      },
      "source": [
        "credit_card_data=pd.read_csv('/content/creditcard.csv')"
      ],
      "execution_count": 2,
      "outputs": []
    },
    {
      "cell_type": "markdown",
      "metadata": {
        "id": "41wPkc15qOHS"
      },
      "source": [
        "**Exploring data**"
      ]
    },
    {
      "cell_type": "code",
      "metadata": {
        "colab": {
          "base_uri": "https://localhost:8080/",
          "height": 223
        },
        "id": "nWmWkOadqM3N",
        "outputId": "72ee5381-0524-4b22-b363-097e141ed40c"
      },
      "source": [
        "credit_card_data.head()"
      ],
      "execution_count": 3,
      "outputs": [
        {
          "output_type": "execute_result",
          "data": {
            "text/html": [
              "<div>\n",
              "<style scoped>\n",
              "    .dataframe tbody tr th:only-of-type {\n",
              "        vertical-align: middle;\n",
              "    }\n",
              "\n",
              "    .dataframe tbody tr th {\n",
              "        vertical-align: top;\n",
              "    }\n",
              "\n",
              "    .dataframe thead th {\n",
              "        text-align: right;\n",
              "    }\n",
              "</style>\n",
              "<table border=\"1\" class=\"dataframe\">\n",
              "  <thead>\n",
              "    <tr style=\"text-align: right;\">\n",
              "      <th></th>\n",
              "      <th>Time</th>\n",
              "      <th>V1</th>\n",
              "      <th>V2</th>\n",
              "      <th>V3</th>\n",
              "      <th>V4</th>\n",
              "      <th>V5</th>\n",
              "      <th>V6</th>\n",
              "      <th>V7</th>\n",
              "      <th>V8</th>\n",
              "      <th>V9</th>\n",
              "      <th>V10</th>\n",
              "      <th>V11</th>\n",
              "      <th>V12</th>\n",
              "      <th>V13</th>\n",
              "      <th>V14</th>\n",
              "      <th>V15</th>\n",
              "      <th>V16</th>\n",
              "      <th>V17</th>\n",
              "      <th>V18</th>\n",
              "      <th>V19</th>\n",
              "      <th>V20</th>\n",
              "      <th>V21</th>\n",
              "      <th>V22</th>\n",
              "      <th>V23</th>\n",
              "      <th>V24</th>\n",
              "      <th>V25</th>\n",
              "      <th>V26</th>\n",
              "      <th>V27</th>\n",
              "      <th>V28</th>\n",
              "      <th>Amount</th>\n",
              "      <th>Class</th>\n",
              "    </tr>\n",
              "  </thead>\n",
              "  <tbody>\n",
              "    <tr>\n",
              "      <th>0</th>\n",
              "      <td>0</td>\n",
              "      <td>-1.359807</td>\n",
              "      <td>-0.072781</td>\n",
              "      <td>2.536347</td>\n",
              "      <td>1.378155</td>\n",
              "      <td>-0.338321</td>\n",
              "      <td>0.462388</td>\n",
              "      <td>0.239599</td>\n",
              "      <td>0.098698</td>\n",
              "      <td>0.363787</td>\n",
              "      <td>0.090794</td>\n",
              "      <td>-0.551600</td>\n",
              "      <td>-0.617801</td>\n",
              "      <td>-0.991390</td>\n",
              "      <td>-0.311169</td>\n",
              "      <td>1.468177</td>\n",
              "      <td>-0.470401</td>\n",
              "      <td>0.207971</td>\n",
              "      <td>0.025791</td>\n",
              "      <td>0.403993</td>\n",
              "      <td>0.251412</td>\n",
              "      <td>-0.018307</td>\n",
              "      <td>0.277838</td>\n",
              "      <td>-0.110474</td>\n",
              "      <td>0.066928</td>\n",
              "      <td>0.128539</td>\n",
              "      <td>-0.189115</td>\n",
              "      <td>0.133558</td>\n",
              "      <td>-0.021053</td>\n",
              "      <td>149.62</td>\n",
              "      <td>0.0</td>\n",
              "    </tr>\n",
              "    <tr>\n",
              "      <th>1</th>\n",
              "      <td>0</td>\n",
              "      <td>1.191857</td>\n",
              "      <td>0.266151</td>\n",
              "      <td>0.166480</td>\n",
              "      <td>0.448154</td>\n",
              "      <td>0.060018</td>\n",
              "      <td>-0.082361</td>\n",
              "      <td>-0.078803</td>\n",
              "      <td>0.085102</td>\n",
              "      <td>-0.255425</td>\n",
              "      <td>-0.166974</td>\n",
              "      <td>1.612727</td>\n",
              "      <td>1.065235</td>\n",
              "      <td>0.489095</td>\n",
              "      <td>-0.143772</td>\n",
              "      <td>0.635558</td>\n",
              "      <td>0.463917</td>\n",
              "      <td>-0.114805</td>\n",
              "      <td>-0.183361</td>\n",
              "      <td>-0.145783</td>\n",
              "      <td>-0.069083</td>\n",
              "      <td>-0.225775</td>\n",
              "      <td>-0.638672</td>\n",
              "      <td>0.101288</td>\n",
              "      <td>-0.339846</td>\n",
              "      <td>0.167170</td>\n",
              "      <td>0.125895</td>\n",
              "      <td>-0.008983</td>\n",
              "      <td>0.014724</td>\n",
              "      <td>2.69</td>\n",
              "      <td>0.0</td>\n",
              "    </tr>\n",
              "    <tr>\n",
              "      <th>2</th>\n",
              "      <td>1</td>\n",
              "      <td>-1.358354</td>\n",
              "      <td>-1.340163</td>\n",
              "      <td>1.773209</td>\n",
              "      <td>0.379780</td>\n",
              "      <td>-0.503198</td>\n",
              "      <td>1.800499</td>\n",
              "      <td>0.791461</td>\n",
              "      <td>0.247676</td>\n",
              "      <td>-1.514654</td>\n",
              "      <td>0.207643</td>\n",
              "      <td>0.624501</td>\n",
              "      <td>0.066084</td>\n",
              "      <td>0.717293</td>\n",
              "      <td>-0.165946</td>\n",
              "      <td>2.345865</td>\n",
              "      <td>-2.890083</td>\n",
              "      <td>1.109969</td>\n",
              "      <td>-0.121359</td>\n",
              "      <td>-2.261857</td>\n",
              "      <td>0.524980</td>\n",
              "      <td>0.247998</td>\n",
              "      <td>0.771679</td>\n",
              "      <td>0.909412</td>\n",
              "      <td>-0.689281</td>\n",
              "      <td>-0.327642</td>\n",
              "      <td>-0.139097</td>\n",
              "      <td>-0.055353</td>\n",
              "      <td>-0.059752</td>\n",
              "      <td>378.66</td>\n",
              "      <td>0.0</td>\n",
              "    </tr>\n",
              "    <tr>\n",
              "      <th>3</th>\n",
              "      <td>1</td>\n",
              "      <td>-0.966272</td>\n",
              "      <td>-0.185226</td>\n",
              "      <td>1.792993</td>\n",
              "      <td>-0.863291</td>\n",
              "      <td>-0.010309</td>\n",
              "      <td>1.247203</td>\n",
              "      <td>0.237609</td>\n",
              "      <td>0.377436</td>\n",
              "      <td>-1.387024</td>\n",
              "      <td>-0.054952</td>\n",
              "      <td>-0.226487</td>\n",
              "      <td>0.178228</td>\n",
              "      <td>0.507757</td>\n",
              "      <td>-0.287924</td>\n",
              "      <td>-0.631418</td>\n",
              "      <td>-1.059647</td>\n",
              "      <td>-0.684093</td>\n",
              "      <td>1.965775</td>\n",
              "      <td>-1.232622</td>\n",
              "      <td>-0.208038</td>\n",
              "      <td>-0.108300</td>\n",
              "      <td>0.005274</td>\n",
              "      <td>-0.190321</td>\n",
              "      <td>-1.175575</td>\n",
              "      <td>0.647376</td>\n",
              "      <td>-0.221929</td>\n",
              "      <td>0.062723</td>\n",
              "      <td>0.061458</td>\n",
              "      <td>123.50</td>\n",
              "      <td>0.0</td>\n",
              "    </tr>\n",
              "    <tr>\n",
              "      <th>4</th>\n",
              "      <td>2</td>\n",
              "      <td>-1.158233</td>\n",
              "      <td>0.877737</td>\n",
              "      <td>1.548718</td>\n",
              "      <td>0.403034</td>\n",
              "      <td>-0.407193</td>\n",
              "      <td>0.095921</td>\n",
              "      <td>0.592941</td>\n",
              "      <td>-0.270533</td>\n",
              "      <td>0.817739</td>\n",
              "      <td>0.753074</td>\n",
              "      <td>-0.822843</td>\n",
              "      <td>0.538196</td>\n",
              "      <td>1.345852</td>\n",
              "      <td>-1.119670</td>\n",
              "      <td>0.175121</td>\n",
              "      <td>-0.451449</td>\n",
              "      <td>-0.237033</td>\n",
              "      <td>-0.038195</td>\n",
              "      <td>0.803487</td>\n",
              "      <td>0.408542</td>\n",
              "      <td>-0.009431</td>\n",
              "      <td>0.798278</td>\n",
              "      <td>-0.137458</td>\n",
              "      <td>0.141267</td>\n",
              "      <td>-0.206010</td>\n",
              "      <td>0.502292</td>\n",
              "      <td>0.219422</td>\n",
              "      <td>0.215153</td>\n",
              "      <td>69.99</td>\n",
              "      <td>0.0</td>\n",
              "    </tr>\n",
              "  </tbody>\n",
              "</table>\n",
              "</div>"
            ],
            "text/plain": [
              "   Time        V1        V2        V3  ...       V27       V28  Amount  Class\n",
              "0     0 -1.359807 -0.072781  2.536347  ...  0.133558 -0.021053  149.62    0.0\n",
              "1     0  1.191857  0.266151  0.166480  ... -0.008983  0.014724    2.69    0.0\n",
              "2     1 -1.358354 -1.340163  1.773209  ... -0.055353 -0.059752  378.66    0.0\n",
              "3     1 -0.966272 -0.185226  1.792993  ...  0.062723  0.061458  123.50    0.0\n",
              "4     2 -1.158233  0.877737  1.548718  ...  0.219422  0.215153   69.99    0.0\n",
              "\n",
              "[5 rows x 31 columns]"
            ]
          },
          "metadata": {},
          "execution_count": 3
        }
      ]
    },
    {
      "cell_type": "code",
      "metadata": {
        "colab": {
          "base_uri": "https://localhost:8080/",
          "height": 223
        },
        "id": "S8baDcPUqVum",
        "outputId": "2ac8ec99-fcd9-417d-b042-6635abeca0f1"
      },
      "source": [
        "credit_card_data.tail()"
      ],
      "execution_count": 4,
      "outputs": [
        {
          "output_type": "execute_result",
          "data": {
            "text/html": [
              "<div>\n",
              "<style scoped>\n",
              "    .dataframe tbody tr th:only-of-type {\n",
              "        vertical-align: middle;\n",
              "    }\n",
              "\n",
              "    .dataframe tbody tr th {\n",
              "        vertical-align: top;\n",
              "    }\n",
              "\n",
              "    .dataframe thead th {\n",
              "        text-align: right;\n",
              "    }\n",
              "</style>\n",
              "<table border=\"1\" class=\"dataframe\">\n",
              "  <thead>\n",
              "    <tr style=\"text-align: right;\">\n",
              "      <th></th>\n",
              "      <th>Time</th>\n",
              "      <th>V1</th>\n",
              "      <th>V2</th>\n",
              "      <th>V3</th>\n",
              "      <th>V4</th>\n",
              "      <th>V5</th>\n",
              "      <th>V6</th>\n",
              "      <th>V7</th>\n",
              "      <th>V8</th>\n",
              "      <th>V9</th>\n",
              "      <th>V10</th>\n",
              "      <th>V11</th>\n",
              "      <th>V12</th>\n",
              "      <th>V13</th>\n",
              "      <th>V14</th>\n",
              "      <th>V15</th>\n",
              "      <th>V16</th>\n",
              "      <th>V17</th>\n",
              "      <th>V18</th>\n",
              "      <th>V19</th>\n",
              "      <th>V20</th>\n",
              "      <th>V21</th>\n",
              "      <th>V22</th>\n",
              "      <th>V23</th>\n",
              "      <th>V24</th>\n",
              "      <th>V25</th>\n",
              "      <th>V26</th>\n",
              "      <th>V27</th>\n",
              "      <th>V28</th>\n",
              "      <th>Amount</th>\n",
              "      <th>Class</th>\n",
              "    </tr>\n",
              "  </thead>\n",
              "  <tbody>\n",
              "    <tr>\n",
              "      <th>17913</th>\n",
              "      <td>29027</td>\n",
              "      <td>-0.422159</td>\n",
              "      <td>0.231118</td>\n",
              "      <td>1.666711</td>\n",
              "      <td>0.451976</td>\n",
              "      <td>-0.203598</td>\n",
              "      <td>0.097244</td>\n",
              "      <td>-0.039666</td>\n",
              "      <td>0.354218</td>\n",
              "      <td>0.062463</td>\n",
              "      <td>-0.267672</td>\n",
              "      <td>0.909700</td>\n",
              "      <td>-0.078854</td>\n",
              "      <td>-2.186030</td>\n",
              "      <td>0.421409</td>\n",
              "      <td>-0.291018</td>\n",
              "      <td>-0.948596</td>\n",
              "      <td>0.715232</td>\n",
              "      <td>-0.080037</td>\n",
              "      <td>1.303620</td>\n",
              "      <td>-0.035462</td>\n",
              "      <td>0.110909</td>\n",
              "      <td>0.435121</td>\n",
              "      <td>-0.056658</td>\n",
              "      <td>0.265867</td>\n",
              "      <td>-0.548204</td>\n",
              "      <td>0.734013</td>\n",
              "      <td>0.117023</td>\n",
              "      <td>0.130972</td>\n",
              "      <td>9.00</td>\n",
              "      <td>0.0</td>\n",
              "    </tr>\n",
              "    <tr>\n",
              "      <th>17914</th>\n",
              "      <td>29030</td>\n",
              "      <td>1.177387</td>\n",
              "      <td>-0.215585</td>\n",
              "      <td>0.202972</td>\n",
              "      <td>0.215323</td>\n",
              "      <td>-0.029312</td>\n",
              "      <td>0.601788</td>\n",
              "      <td>-0.297021</td>\n",
              "      <td>0.188082</td>\n",
              "      <td>0.436370</td>\n",
              "      <td>-0.199326</td>\n",
              "      <td>0.515916</td>\n",
              "      <td>1.246514</td>\n",
              "      <td>0.457754</td>\n",
              "      <td>-0.118306</td>\n",
              "      <td>-0.778808</td>\n",
              "      <td>-0.268287</td>\n",
              "      <td>-0.163576</td>\n",
              "      <td>-0.353358</td>\n",
              "      <td>0.553504</td>\n",
              "      <td>-0.035901</td>\n",
              "      <td>-0.055842</td>\n",
              "      <td>0.075903</td>\n",
              "      <td>-0.187120</td>\n",
              "      <td>-0.717798</td>\n",
              "      <td>0.555294</td>\n",
              "      <td>0.731531</td>\n",
              "      <td>-0.022112</td>\n",
              "      <td>-0.010929</td>\n",
              "      <td>25.00</td>\n",
              "      <td>0.0</td>\n",
              "    </tr>\n",
              "    <tr>\n",
              "      <th>17915</th>\n",
              "      <td>29030</td>\n",
              "      <td>-0.553746</td>\n",
              "      <td>0.880858</td>\n",
              "      <td>1.644821</td>\n",
              "      <td>-0.132657</td>\n",
              "      <td>0.120940</td>\n",
              "      <td>-0.267411</td>\n",
              "      <td>0.466892</td>\n",
              "      <td>0.222443</td>\n",
              "      <td>-0.639624</td>\n",
              "      <td>-0.174843</td>\n",
              "      <td>1.671591</td>\n",
              "      <td>0.700839</td>\n",
              "      <td>-0.287896</td>\n",
              "      <td>0.417781</td>\n",
              "      <td>0.406584</td>\n",
              "      <td>0.049476</td>\n",
              "      <td>-0.279782</td>\n",
              "      <td>-0.349309</td>\n",
              "      <td>-0.129659</td>\n",
              "      <td>0.070172</td>\n",
              "      <td>-0.133339</td>\n",
              "      <td>-0.348662</td>\n",
              "      <td>0.029947</td>\n",
              "      <td>0.199962</td>\n",
              "      <td>-0.328384</td>\n",
              "      <td>0.071511</td>\n",
              "      <td>0.275487</td>\n",
              "      <td>0.110195</td>\n",
              "      <td>0.89</td>\n",
              "      <td>0.0</td>\n",
              "    </tr>\n",
              "    <tr>\n",
              "      <th>17916</th>\n",
              "      <td>29030</td>\n",
              "      <td>-2.844632</td>\n",
              "      <td>3.717960</td>\n",
              "      <td>-7.165428</td>\n",
              "      <td>4.120419</td>\n",
              "      <td>-2.991039</td>\n",
              "      <td>-2.942326</td>\n",
              "      <td>-4.925187</td>\n",
              "      <td>2.204337</td>\n",
              "      <td>-2.663613</td>\n",
              "      <td>-6.888367</td>\n",
              "      <td>4.027447</td>\n",
              "      <td>-8.030026</td>\n",
              "      <td>-1.340344</td>\n",
              "      <td>-9.756963</td>\n",
              "      <td>1.055533</td>\n",
              "      <td>-5.381310</td>\n",
              "      <td>-8.745070</td>\n",
              "      <td>-2.733419</td>\n",
              "      <td>0.983641</td>\n",
              "      <td>0.800709</td>\n",
              "      <td>0.894495</td>\n",
              "      <td>-0.340246</td>\n",
              "      <td>0.012222</td>\n",
              "      <td>-0.059679</td>\n",
              "      <td>-0.104338</td>\n",
              "      <td>-0.295884</td>\n",
              "      <td>1.326228</td>\n",
              "      <td>0.322688</td>\n",
              "      <td>89.99</td>\n",
              "      <td>0.0</td>\n",
              "    </tr>\n",
              "    <tr>\n",
              "      <th>17917</th>\n",
              "      <td>29031</td>\n",
              "      <td>1.050204</td>\n",
              "      <td>0.078269</td>\n",
              "      <td>0.484733</td>\n",
              "      <td>1.349623</td>\n",
              "      <td>NaN</td>\n",
              "      <td>NaN</td>\n",
              "      <td>NaN</td>\n",
              "      <td>NaN</td>\n",
              "      <td>NaN</td>\n",
              "      <td>NaN</td>\n",
              "      <td>NaN</td>\n",
              "      <td>NaN</td>\n",
              "      <td>NaN</td>\n",
              "      <td>NaN</td>\n",
              "      <td>NaN</td>\n",
              "      <td>NaN</td>\n",
              "      <td>NaN</td>\n",
              "      <td>NaN</td>\n",
              "      <td>NaN</td>\n",
              "      <td>NaN</td>\n",
              "      <td>NaN</td>\n",
              "      <td>NaN</td>\n",
              "      <td>NaN</td>\n",
              "      <td>NaN</td>\n",
              "      <td>NaN</td>\n",
              "      <td>NaN</td>\n",
              "      <td>NaN</td>\n",
              "      <td>NaN</td>\n",
              "      <td>NaN</td>\n",
              "      <td>NaN</td>\n",
              "    </tr>\n",
              "  </tbody>\n",
              "</table>\n",
              "</div>"
            ],
            "text/plain": [
              "        Time        V1        V2        V3  ...       V27       V28  Amount  Class\n",
              "17913  29027 -0.422159  0.231118  1.666711  ...  0.117023  0.130972    9.00    0.0\n",
              "17914  29030  1.177387 -0.215585  0.202972  ... -0.022112 -0.010929   25.00    0.0\n",
              "17915  29030 -0.553746  0.880858  1.644821  ...  0.275487  0.110195    0.89    0.0\n",
              "17916  29030 -2.844632  3.717960 -7.165428  ...  1.326228  0.322688   89.99    0.0\n",
              "17917  29031  1.050204  0.078269  0.484733  ...       NaN       NaN     NaN    NaN\n",
              "\n",
              "[5 rows x 31 columns]"
            ]
          },
          "metadata": {},
          "execution_count": 4
        }
      ]
    },
    {
      "cell_type": "code",
      "metadata": {
        "colab": {
          "base_uri": "https://localhost:8080/"
        },
        "id": "hXRpOwJeqala",
        "outputId": "4aa836dd-6f84-438b-b507-ffc6948add16"
      },
      "source": [
        "credit_card_data.info()"
      ],
      "execution_count": 5,
      "outputs": [
        {
          "output_type": "stream",
          "name": "stdout",
          "text": [
            "<class 'pandas.core.frame.DataFrame'>\n",
            "RangeIndex: 17918 entries, 0 to 17917\n",
            "Data columns (total 31 columns):\n",
            " #   Column  Non-Null Count  Dtype  \n",
            "---  ------  --------------  -----  \n",
            " 0   Time    17918 non-null  int64  \n",
            " 1   V1      17918 non-null  float64\n",
            " 2   V2      17918 non-null  float64\n",
            " 3   V3      17918 non-null  float64\n",
            " 4   V4      17918 non-null  float64\n",
            " 5   V5      17917 non-null  float64\n",
            " 6   V6      17917 non-null  float64\n",
            " 7   V7      17917 non-null  float64\n",
            " 8   V8      17917 non-null  float64\n",
            " 9   V9      17917 non-null  float64\n",
            " 10  V10     17917 non-null  float64\n",
            " 11  V11     17917 non-null  float64\n",
            " 12  V12     17917 non-null  float64\n",
            " 13  V13     17917 non-null  float64\n",
            " 14  V14     17917 non-null  float64\n",
            " 15  V15     17917 non-null  float64\n",
            " 16  V16     17917 non-null  float64\n",
            " 17  V17     17917 non-null  float64\n",
            " 18  V18     17917 non-null  float64\n",
            " 19  V19     17917 non-null  float64\n",
            " 20  V20     17917 non-null  float64\n",
            " 21  V21     17917 non-null  float64\n",
            " 22  V22     17917 non-null  float64\n",
            " 23  V23     17917 non-null  float64\n",
            " 24  V24     17917 non-null  float64\n",
            " 25  V25     17917 non-null  float64\n",
            " 26  V26     17917 non-null  float64\n",
            " 27  V27     17917 non-null  float64\n",
            " 28  V28     17917 non-null  float64\n",
            " 29  Amount  17917 non-null  float64\n",
            " 30  Class   17917 non-null  float64\n",
            "dtypes: float64(30), int64(1)\n",
            "memory usage: 4.2 MB\n"
          ]
        }
      ]
    },
    {
      "cell_type": "code",
      "metadata": {
        "colab": {
          "base_uri": "https://localhost:8080/"
        },
        "id": "6_O7VTKWqdsZ",
        "outputId": "c5dd7302-ee0c-422e-c6e2-3ea7de057afc"
      },
      "source": [
        "credit_card_data.isnull().sum()"
      ],
      "execution_count": 6,
      "outputs": [
        {
          "output_type": "execute_result",
          "data": {
            "text/plain": [
              "Time      0\n",
              "V1        0\n",
              "V2        0\n",
              "V3        0\n",
              "V4        0\n",
              "V5        1\n",
              "V6        1\n",
              "V7        1\n",
              "V8        1\n",
              "V9        1\n",
              "V10       1\n",
              "V11       1\n",
              "V12       1\n",
              "V13       1\n",
              "V14       1\n",
              "V15       1\n",
              "V16       1\n",
              "V17       1\n",
              "V18       1\n",
              "V19       1\n",
              "V20       1\n",
              "V21       1\n",
              "V22       1\n",
              "V23       1\n",
              "V24       1\n",
              "V25       1\n",
              "V26       1\n",
              "V27       1\n",
              "V28       1\n",
              "Amount    1\n",
              "Class     1\n",
              "dtype: int64"
            ]
          },
          "metadata": {},
          "execution_count": 6
        }
      ]
    },
    {
      "cell_type": "code",
      "metadata": {
        "colab": {
          "base_uri": "https://localhost:8080/"
        },
        "id": "6t1H5OIxqiKd",
        "outputId": "df068efa-54cd-40a3-b6dc-368448b2f651"
      },
      "source": [
        "credit_card_data['Class'].value_counts()"
      ],
      "execution_count": 7,
      "outputs": [
        {
          "output_type": "execute_result",
          "data": {
            "text/plain": [
              "0.0    17836\n",
              "1.0       81\n",
              "Name: Class, dtype: int64"
            ]
          },
          "metadata": {},
          "execution_count": 7
        }
      ]
    },
    {
      "cell_type": "code",
      "metadata": {
        "id": "3IEydNdhqzKs"
      },
      "source": [
        "legit=credit_card_data[credit_card_data.Class==0]\n",
        "fraud=credit_card_data[credit_card_data.Class==1]"
      ],
      "execution_count": 8,
      "outputs": []
    },
    {
      "cell_type": "code",
      "metadata": {
        "colab": {
          "base_uri": "https://localhost:8080/"
        },
        "id": "KbyyYQpRq19L",
        "outputId": "f7b88eeb-30aa-4c62-fe10-f21a1c03c033"
      },
      "source": [
        "print(legit.shape)\n",
        "print(fraud.shape)"
      ],
      "execution_count": 9,
      "outputs": [
        {
          "output_type": "stream",
          "name": "stdout",
          "text": [
            "(17836, 31)\n",
            "(81, 31)\n"
          ]
        }
      ]
    },
    {
      "cell_type": "code",
      "metadata": {
        "colab": {
          "base_uri": "https://localhost:8080/"
        },
        "id": "U4WjML2rq45O",
        "outputId": "a58852ae-7259-4f9b-e0d7-9482d1e8d0c2"
      },
      "source": [
        "legit.Amount.describe()"
      ],
      "execution_count": 10,
      "outputs": [
        {
          "output_type": "execute_result",
          "data": {
            "text/plain": [
              "count    17836.000000\n",
              "mean        67.365025\n",
              "std        188.754429\n",
              "min          0.000000\n",
              "25%          5.490000\n",
              "50%         15.950000\n",
              "75%         56.232500\n",
              "max       7712.430000\n",
              "Name: Amount, dtype: float64"
            ]
          },
          "metadata": {},
          "execution_count": 10
        }
      ]
    },
    {
      "cell_type": "code",
      "metadata": {
        "colab": {
          "base_uri": "https://localhost:8080/"
        },
        "id": "U3Dy85i8q83i",
        "outputId": "3ecd9bfb-98fd-48c7-e1f2-33ea99e66e14"
      },
      "source": [
        "fraud.Amount.describe()"
      ],
      "execution_count": 11,
      "outputs": [
        {
          "output_type": "execute_result",
          "data": {
            "text/plain": [
              "count      81.000000\n",
              "mean       98.105926\n",
              "std       267.464067\n",
              "min         0.000000\n",
              "25%         1.000000\n",
              "50%         1.000000\n",
              "75%        99.990000\n",
              "max      1809.680000\n",
              "Name: Amount, dtype: float64"
            ]
          },
          "metadata": {},
          "execution_count": 11
        }
      ]
    },
    {
      "cell_type": "code",
      "metadata": {
        "colab": {
          "base_uri": "https://localhost:8080/",
          "height": 162
        },
        "id": "b7ZcluKFrBJe",
        "outputId": "f182d45b-7522-40f9-f8e6-8cf94992f457"
      },
      "source": [
        "credit_card_data.groupby('Class').mean()"
      ],
      "execution_count": 12,
      "outputs": [
        {
          "output_type": "execute_result",
          "data": {
            "text/html": [
              "<div>\n",
              "<style scoped>\n",
              "    .dataframe tbody tr th:only-of-type {\n",
              "        vertical-align: middle;\n",
              "    }\n",
              "\n",
              "    .dataframe tbody tr th {\n",
              "        vertical-align: top;\n",
              "    }\n",
              "\n",
              "    .dataframe thead th {\n",
              "        text-align: right;\n",
              "    }\n",
              "</style>\n",
              "<table border=\"1\" class=\"dataframe\">\n",
              "  <thead>\n",
              "    <tr style=\"text-align: right;\">\n",
              "      <th></th>\n",
              "      <th>Time</th>\n",
              "      <th>V1</th>\n",
              "      <th>V2</th>\n",
              "      <th>V3</th>\n",
              "      <th>V4</th>\n",
              "      <th>V5</th>\n",
              "      <th>V6</th>\n",
              "      <th>V7</th>\n",
              "      <th>V8</th>\n",
              "      <th>V9</th>\n",
              "      <th>V10</th>\n",
              "      <th>V11</th>\n",
              "      <th>V12</th>\n",
              "      <th>V13</th>\n",
              "      <th>V14</th>\n",
              "      <th>V15</th>\n",
              "      <th>V16</th>\n",
              "      <th>V17</th>\n",
              "      <th>V18</th>\n",
              "      <th>V19</th>\n",
              "      <th>V20</th>\n",
              "      <th>V21</th>\n",
              "      <th>V22</th>\n",
              "      <th>V23</th>\n",
              "      <th>V24</th>\n",
              "      <th>V25</th>\n",
              "      <th>V26</th>\n",
              "      <th>V27</th>\n",
              "      <th>V28</th>\n",
              "      <th>Amount</th>\n",
              "    </tr>\n",
              "    <tr>\n",
              "      <th>Class</th>\n",
              "      <th></th>\n",
              "      <th></th>\n",
              "      <th></th>\n",
              "      <th></th>\n",
              "      <th></th>\n",
              "      <th></th>\n",
              "      <th></th>\n",
              "      <th></th>\n",
              "      <th></th>\n",
              "      <th></th>\n",
              "      <th></th>\n",
              "      <th></th>\n",
              "      <th></th>\n",
              "      <th></th>\n",
              "      <th></th>\n",
              "      <th></th>\n",
              "      <th></th>\n",
              "      <th></th>\n",
              "      <th></th>\n",
              "      <th></th>\n",
              "      <th></th>\n",
              "      <th></th>\n",
              "      <th></th>\n",
              "      <th></th>\n",
              "      <th></th>\n",
              "      <th></th>\n",
              "      <th></th>\n",
              "      <th></th>\n",
              "      <th></th>\n",
              "      <th></th>\n",
              "    </tr>\n",
              "  </thead>\n",
              "  <tbody>\n",
              "    <tr>\n",
              "      <th>0.0</th>\n",
              "      <td>13891.131980</td>\n",
              "      <td>-0.203851</td>\n",
              "      <td>0.228560</td>\n",
              "      <td>0.840631</td>\n",
              "      <td>0.263581</td>\n",
              "      <td>-0.117213</td>\n",
              "      <td>0.112151</td>\n",
              "      <td>-0.110725</td>\n",
              "      <td>-0.008454</td>\n",
              "      <td>0.752065</td>\n",
              "      <td>-0.215358</td>\n",
              "      <td>0.712585</td>\n",
              "      <td>-1.186843</td>\n",
              "      <td>0.781491</td>\n",
              "      <td>0.672759</td>\n",
              "      <td>-0.082770</td>\n",
              "      <td>0.008721</td>\n",
              "      <td>0.354174</td>\n",
              "      <td>-0.026752</td>\n",
              "      <td>-0.073561</td>\n",
              "      <td>0.032646</td>\n",
              "      <td>-0.054930</td>\n",
              "      <td>-0.144997</td>\n",
              "      <td>-0.036871</td>\n",
              "      <td>0.015838</td>\n",
              "      <td>0.118904</td>\n",
              "      <td>0.035813</td>\n",
              "      <td>0.010352</td>\n",
              "      <td>0.006670</td>\n",
              "      <td>67.365025</td>\n",
              "    </tr>\n",
              "    <tr>\n",
              "      <th>1.0</th>\n",
              "      <td>16833.074074</td>\n",
              "      <td>-9.315066</td>\n",
              "      <td>6.779465</td>\n",
              "      <td>-13.052870</td>\n",
              "      <td>6.451318</td>\n",
              "      <td>-6.557541</td>\n",
              "      <td>-2.602613</td>\n",
              "      <td>-9.012856</td>\n",
              "      <td>4.730365</td>\n",
              "      <td>-3.087651</td>\n",
              "      <td>-7.499402</td>\n",
              "      <td>6.173253</td>\n",
              "      <td>-9.366936</td>\n",
              "      <td>0.530956</td>\n",
              "      <td>-8.907345</td>\n",
              "      <td>-0.187449</td>\n",
              "      <td>-5.282956</td>\n",
              "      <td>-8.522760</td>\n",
              "      <td>-3.021430</td>\n",
              "      <td>0.395198</td>\n",
              "      <td>0.756424</td>\n",
              "      <td>0.549752</td>\n",
              "      <td>-0.423495</td>\n",
              "      <td>-0.398104</td>\n",
              "      <td>-0.277836</td>\n",
              "      <td>0.355688</td>\n",
              "      <td>0.177616</td>\n",
              "      <td>0.940693</td>\n",
              "      <td>0.090007</td>\n",
              "      <td>98.105926</td>\n",
              "    </tr>\n",
              "  </tbody>\n",
              "</table>\n",
              "</div>"
            ],
            "text/plain": [
              "               Time        V1        V2  ...       V27       V28     Amount\n",
              "Class                                    ...                               \n",
              "0.0    13891.131980 -0.203851  0.228560  ...  0.010352  0.006670  67.365025\n",
              "1.0    16833.074074 -9.315066  6.779465  ...  0.940693  0.090007  98.105926\n",
              "\n",
              "[2 rows x 30 columns]"
            ]
          },
          "metadata": {},
          "execution_count": 12
        }
      ]
    },
    {
      "cell_type": "code",
      "metadata": {
        "id": "ljKRh7-7rEhq"
      },
      "source": [
        "legit_sample=legit.sample(n=492)"
      ],
      "execution_count": 13,
      "outputs": []
    },
    {
      "cell_type": "code",
      "metadata": {
        "id": "S48mcIM9rIVY"
      },
      "source": [
        "new_dataset=pd.concat([legit_sample,fraud],axis=0)"
      ],
      "execution_count": 14,
      "outputs": []
    },
    {
      "cell_type": "code",
      "metadata": {
        "colab": {
          "base_uri": "https://localhost:8080/",
          "height": 223
        },
        "id": "1_VVbb6MrK7k",
        "outputId": "3a5bf611-7431-4002-d4b9-431cbf30c8bd"
      },
      "source": [
        "new_dataset.head()"
      ],
      "execution_count": 15,
      "outputs": [
        {
          "output_type": "execute_result",
          "data": {
            "text/html": [
              "<div>\n",
              "<style scoped>\n",
              "    .dataframe tbody tr th:only-of-type {\n",
              "        vertical-align: middle;\n",
              "    }\n",
              "\n",
              "    .dataframe tbody tr th {\n",
              "        vertical-align: top;\n",
              "    }\n",
              "\n",
              "    .dataframe thead th {\n",
              "        text-align: right;\n",
              "    }\n",
              "</style>\n",
              "<table border=\"1\" class=\"dataframe\">\n",
              "  <thead>\n",
              "    <tr style=\"text-align: right;\">\n",
              "      <th></th>\n",
              "      <th>Time</th>\n",
              "      <th>V1</th>\n",
              "      <th>V2</th>\n",
              "      <th>V3</th>\n",
              "      <th>V4</th>\n",
              "      <th>V5</th>\n",
              "      <th>V6</th>\n",
              "      <th>V7</th>\n",
              "      <th>V8</th>\n",
              "      <th>V9</th>\n",
              "      <th>V10</th>\n",
              "      <th>V11</th>\n",
              "      <th>V12</th>\n",
              "      <th>V13</th>\n",
              "      <th>V14</th>\n",
              "      <th>V15</th>\n",
              "      <th>V16</th>\n",
              "      <th>V17</th>\n",
              "      <th>V18</th>\n",
              "      <th>V19</th>\n",
              "      <th>V20</th>\n",
              "      <th>V21</th>\n",
              "      <th>V22</th>\n",
              "      <th>V23</th>\n",
              "      <th>V24</th>\n",
              "      <th>V25</th>\n",
              "      <th>V26</th>\n",
              "      <th>V27</th>\n",
              "      <th>V28</th>\n",
              "      <th>Amount</th>\n",
              "      <th>Class</th>\n",
              "    </tr>\n",
              "  </thead>\n",
              "  <tbody>\n",
              "    <tr>\n",
              "      <th>2640</th>\n",
              "      <td>2173</td>\n",
              "      <td>-0.627478</td>\n",
              "      <td>1.258686</td>\n",
              "      <td>1.300361</td>\n",
              "      <td>0.907212</td>\n",
              "      <td>-0.015111</td>\n",
              "      <td>-1.001729</td>\n",
              "      <td>0.772859</td>\n",
              "      <td>-0.230776</td>\n",
              "      <td>-0.439761</td>\n",
              "      <td>0.205047</td>\n",
              "      <td>-0.174959</td>\n",
              "      <td>0.076459</td>\n",
              "      <td>0.130234</td>\n",
              "      <td>0.226031</td>\n",
              "      <td>0.998976</td>\n",
              "      <td>-0.458340</td>\n",
              "      <td>-0.094831</td>\n",
              "      <td>-0.043591</td>\n",
              "      <td>0.285585</td>\n",
              "      <td>0.075406</td>\n",
              "      <td>0.157724</td>\n",
              "      <td>0.556885</td>\n",
              "      <td>-0.139944</td>\n",
              "      <td>0.733104</td>\n",
              "      <td>-0.260088</td>\n",
              "      <td>-0.363153</td>\n",
              "      <td>0.158268</td>\n",
              "      <td>0.233503</td>\n",
              "      <td>10.41</td>\n",
              "      <td>0.0</td>\n",
              "    </tr>\n",
              "    <tr>\n",
              "      <th>14215</th>\n",
              "      <td>25260</td>\n",
              "      <td>0.646577</td>\n",
              "      <td>-2.011435</td>\n",
              "      <td>1.161057</td>\n",
              "      <td>0.000655</td>\n",
              "      <td>-2.154117</td>\n",
              "      <td>0.094229</td>\n",
              "      <td>-0.930822</td>\n",
              "      <td>0.025306</td>\n",
              "      <td>0.303206</td>\n",
              "      <td>0.144692</td>\n",
              "      <td>-0.813853</td>\n",
              "      <td>0.278538</td>\n",
              "      <td>1.033901</td>\n",
              "      <td>-1.291433</td>\n",
              "      <td>-0.862275</td>\n",
              "      <td>0.787672</td>\n",
              "      <td>0.660499</td>\n",
              "      <td>-1.298361</td>\n",
              "      <td>0.706205</td>\n",
              "      <td>0.814009</td>\n",
              "      <td>0.394562</td>\n",
              "      <td>0.652692</td>\n",
              "      <td>-0.394903</td>\n",
              "      <td>0.500463</td>\n",
              "      <td>0.339525</td>\n",
              "      <td>-0.112716</td>\n",
              "      <td>0.016514</td>\n",
              "      <td>0.090939</td>\n",
              "      <td>356.15</td>\n",
              "      <td>0.0</td>\n",
              "    </tr>\n",
              "    <tr>\n",
              "      <th>3946</th>\n",
              "      <td>3564</td>\n",
              "      <td>1.235832</td>\n",
              "      <td>0.541397</td>\n",
              "      <td>-0.115374</td>\n",
              "      <td>1.045618</td>\n",
              "      <td>0.329727</td>\n",
              "      <td>-0.695938</td>\n",
              "      <td>0.554301</td>\n",
              "      <td>-0.284570</td>\n",
              "      <td>-0.462702</td>\n",
              "      <td>-0.033306</td>\n",
              "      <td>0.062828</td>\n",
              "      <td>0.934512</td>\n",
              "      <td>1.166662</td>\n",
              "      <td>0.355223</td>\n",
              "      <td>0.803216</td>\n",
              "      <td>-0.565502</td>\n",
              "      <td>-0.102119</td>\n",
              "      <td>-0.965558</td>\n",
              "      <td>-0.619359</td>\n",
              "      <td>-0.111904</td>\n",
              "      <td>0.043921</td>\n",
              "      <td>0.278872</td>\n",
              "      <td>-0.129468</td>\n",
              "      <td>0.127628</td>\n",
              "      <td>0.820296</td>\n",
              "      <td>-0.270671</td>\n",
              "      <td>0.016448</td>\n",
              "      <td>0.010002</td>\n",
              "      <td>1.00</td>\n",
              "      <td>0.0</td>\n",
              "    </tr>\n",
              "    <tr>\n",
              "      <th>3059</th>\n",
              "      <td>2619</td>\n",
              "      <td>1.195016</td>\n",
              "      <td>0.203954</td>\n",
              "      <td>0.620039</td>\n",
              "      <td>0.648622</td>\n",
              "      <td>-0.462717</td>\n",
              "      <td>-0.712698</td>\n",
              "      <td>-0.017331</td>\n",
              "      <td>-0.081291</td>\n",
              "      <td>0.036352</td>\n",
              "      <td>-0.106709</td>\n",
              "      <td>0.277991</td>\n",
              "      <td>0.501279</td>\n",
              "      <td>0.123310</td>\n",
              "      <td>0.309940</td>\n",
              "      <td>1.272406</td>\n",
              "      <td>-0.079611</td>\n",
              "      <td>-0.019350</td>\n",
              "      <td>-1.083874</td>\n",
              "      <td>-0.599476</td>\n",
              "      <td>-0.143977</td>\n",
              "      <td>-0.209963</td>\n",
              "      <td>-0.578992</td>\n",
              "      <td>0.208192</td>\n",
              "      <td>0.391802</td>\n",
              "      <td>0.097341</td>\n",
              "      <td>0.104479</td>\n",
              "      <td>-0.012800</td>\n",
              "      <td>0.018586</td>\n",
              "      <td>1.29</td>\n",
              "      <td>0.0</td>\n",
              "    </tr>\n",
              "    <tr>\n",
              "      <th>16670</th>\n",
              "      <td>28034</td>\n",
              "      <td>1.256862</td>\n",
              "      <td>-0.629397</td>\n",
              "      <td>0.500233</td>\n",
              "      <td>-0.616077</td>\n",
              "      <td>-1.215677</td>\n",
              "      <td>-0.828134</td>\n",
              "      <td>-0.507844</td>\n",
              "      <td>-0.098695</td>\n",
              "      <td>-1.101156</td>\n",
              "      <td>0.829938</td>\n",
              "      <td>1.384529</td>\n",
              "      <td>0.547774</td>\n",
              "      <td>0.086803</td>\n",
              "      <td>0.327033</td>\n",
              "      <td>0.273828</td>\n",
              "      <td>-1.029118</td>\n",
              "      <td>-0.242458</td>\n",
              "      <td>1.308396</td>\n",
              "      <td>-0.558699</td>\n",
              "      <td>-0.395099</td>\n",
              "      <td>-0.400382</td>\n",
              "      <td>-0.825277</td>\n",
              "      <td>0.122767</td>\n",
              "      <td>0.553375</td>\n",
              "      <td>0.019708</td>\n",
              "      <td>0.870059</td>\n",
              "      <td>-0.066988</td>\n",
              "      <td>0.009852</td>\n",
              "      <td>47.80</td>\n",
              "      <td>0.0</td>\n",
              "    </tr>\n",
              "  </tbody>\n",
              "</table>\n",
              "</div>"
            ],
            "text/plain": [
              "        Time        V1        V2        V3  ...       V27       V28  Amount  Class\n",
              "2640    2173 -0.627478  1.258686  1.300361  ...  0.158268  0.233503   10.41    0.0\n",
              "14215  25260  0.646577 -2.011435  1.161057  ...  0.016514  0.090939  356.15    0.0\n",
              "3946    3564  1.235832  0.541397 -0.115374  ...  0.016448  0.010002    1.00    0.0\n",
              "3059    2619  1.195016  0.203954  0.620039  ... -0.012800  0.018586    1.29    0.0\n",
              "16670  28034  1.256862 -0.629397  0.500233  ... -0.066988  0.009852   47.80    0.0\n",
              "\n",
              "[5 rows x 31 columns]"
            ]
          },
          "metadata": {},
          "execution_count": 15
        }
      ]
    },
    {
      "cell_type": "code",
      "metadata": {
        "colab": {
          "base_uri": "https://localhost:8080/",
          "height": 223
        },
        "id": "pCdOm8p-rNU_",
        "outputId": "ebab097c-41e8-4ab0-99cd-4a2cdad1751a"
      },
      "source": [
        "new_dataset.tail()"
      ],
      "execution_count": 16,
      "outputs": [
        {
          "output_type": "execute_result",
          "data": {
            "text/html": [
              "<div>\n",
              "<style scoped>\n",
              "    .dataframe tbody tr th:only-of-type {\n",
              "        vertical-align: middle;\n",
              "    }\n",
              "\n",
              "    .dataframe tbody tr th {\n",
              "        vertical-align: top;\n",
              "    }\n",
              "\n",
              "    .dataframe thead th {\n",
              "        text-align: right;\n",
              "    }\n",
              "</style>\n",
              "<table border=\"1\" class=\"dataframe\">\n",
              "  <thead>\n",
              "    <tr style=\"text-align: right;\">\n",
              "      <th></th>\n",
              "      <th>Time</th>\n",
              "      <th>V1</th>\n",
              "      <th>V2</th>\n",
              "      <th>V3</th>\n",
              "      <th>V4</th>\n",
              "      <th>V5</th>\n",
              "      <th>V6</th>\n",
              "      <th>V7</th>\n",
              "      <th>V8</th>\n",
              "      <th>V9</th>\n",
              "      <th>V10</th>\n",
              "      <th>V11</th>\n",
              "      <th>V12</th>\n",
              "      <th>V13</th>\n",
              "      <th>V14</th>\n",
              "      <th>V15</th>\n",
              "      <th>V16</th>\n",
              "      <th>V17</th>\n",
              "      <th>V18</th>\n",
              "      <th>V19</th>\n",
              "      <th>V20</th>\n",
              "      <th>V21</th>\n",
              "      <th>V22</th>\n",
              "      <th>V23</th>\n",
              "      <th>V24</th>\n",
              "      <th>V25</th>\n",
              "      <th>V26</th>\n",
              "      <th>V27</th>\n",
              "      <th>V28</th>\n",
              "      <th>Amount</th>\n",
              "      <th>Class</th>\n",
              "    </tr>\n",
              "  </thead>\n",
              "  <tbody>\n",
              "    <tr>\n",
              "      <th>17317</th>\n",
              "      <td>28625</td>\n",
              "      <td>-27.848181</td>\n",
              "      <td>15.598193</td>\n",
              "      <td>-28.923756</td>\n",
              "      <td>6.418442</td>\n",
              "      <td>-20.346228</td>\n",
              "      <td>-4.828202</td>\n",
              "      <td>-19.210896</td>\n",
              "      <td>18.329406</td>\n",
              "      <td>-3.668735</td>\n",
              "      <td>-8.009159</td>\n",
              "      <td>4.303096</td>\n",
              "      <td>-6.008660</td>\n",
              "      <td>1.138969</td>\n",
              "      <td>-5.580447</td>\n",
              "      <td>-0.110737</td>\n",
              "      <td>-5.491073</td>\n",
              "      <td>-11.588544</td>\n",
              "      <td>-4.715420</td>\n",
              "      <td>0.734573</td>\n",
              "      <td>1.697856</td>\n",
              "      <td>1.802149</td>\n",
              "      <td>-2.062934</td>\n",
              "      <td>-1.269843</td>\n",
              "      <td>0.165409</td>\n",
              "      <td>1.999499</td>\n",
              "      <td>-0.211059</td>\n",
              "      <td>1.324809</td>\n",
              "      <td>0.388090</td>\n",
              "      <td>99.99</td>\n",
              "      <td>1.0</td>\n",
              "    </tr>\n",
              "    <tr>\n",
              "      <th>17366</th>\n",
              "      <td>28658</td>\n",
              "      <td>-28.524268</td>\n",
              "      <td>15.876923</td>\n",
              "      <td>-29.468732</td>\n",
              "      <td>6.447591</td>\n",
              "      <td>-20.786000</td>\n",
              "      <td>-4.865613</td>\n",
              "      <td>-19.501084</td>\n",
              "      <td>18.748872</td>\n",
              "      <td>-3.642990</td>\n",
              "      <td>-7.939642</td>\n",
              "      <td>4.184674</td>\n",
              "      <td>-5.835075</td>\n",
              "      <td>1.215960</td>\n",
              "      <td>-5.330144</td>\n",
              "      <td>-0.118631</td>\n",
              "      <td>-5.367775</td>\n",
              "      <td>-11.431757</td>\n",
              "      <td>-4.696924</td>\n",
              "      <td>0.692688</td>\n",
              "      <td>1.706889</td>\n",
              "      <td>1.805770</td>\n",
              "      <td>-2.119376</td>\n",
              "      <td>-1.317450</td>\n",
              "      <td>0.169846</td>\n",
              "      <td>2.051687</td>\n",
              "      <td>-0.210502</td>\n",
              "      <td>1.301734</td>\n",
              "      <td>0.380246</td>\n",
              "      <td>99.99</td>\n",
              "      <td>1.0</td>\n",
              "    </tr>\n",
              "    <tr>\n",
              "      <th>17407</th>\n",
              "      <td>28692</td>\n",
              "      <td>-29.200329</td>\n",
              "      <td>16.155701</td>\n",
              "      <td>-30.013712</td>\n",
              "      <td>6.476731</td>\n",
              "      <td>-21.225810</td>\n",
              "      <td>-4.902997</td>\n",
              "      <td>-19.791248</td>\n",
              "      <td>19.168327</td>\n",
              "      <td>-3.617242</td>\n",
              "      <td>-7.870122</td>\n",
              "      <td>4.066255</td>\n",
              "      <td>-5.661492</td>\n",
              "      <td>1.292950</td>\n",
              "      <td>-5.079846</td>\n",
              "      <td>-0.126523</td>\n",
              "      <td>-5.244472</td>\n",
              "      <td>-11.274973</td>\n",
              "      <td>-4.678437</td>\n",
              "      <td>0.650807</td>\n",
              "      <td>1.715862</td>\n",
              "      <td>1.809371</td>\n",
              "      <td>-2.175815</td>\n",
              "      <td>-1.365104</td>\n",
              "      <td>0.174286</td>\n",
              "      <td>2.103868</td>\n",
              "      <td>-0.209944</td>\n",
              "      <td>1.278681</td>\n",
              "      <td>0.372393</td>\n",
              "      <td>99.99</td>\n",
              "      <td>1.0</td>\n",
              "    </tr>\n",
              "    <tr>\n",
              "      <th>17453</th>\n",
              "      <td>28726</td>\n",
              "      <td>-29.876366</td>\n",
              "      <td>16.434525</td>\n",
              "      <td>-30.558697</td>\n",
              "      <td>6.505862</td>\n",
              "      <td>-21.665654</td>\n",
              "      <td>-4.940356</td>\n",
              "      <td>-20.081391</td>\n",
              "      <td>19.587773</td>\n",
              "      <td>-3.591491</td>\n",
              "      <td>-7.800598</td>\n",
              "      <td>3.947840</td>\n",
              "      <td>-5.487911</td>\n",
              "      <td>1.369940</td>\n",
              "      <td>-4.829552</td>\n",
              "      <td>-0.134412</td>\n",
              "      <td>-5.121162</td>\n",
              "      <td>-11.118190</td>\n",
              "      <td>-4.659956</td>\n",
              "      <td>0.608930</td>\n",
              "      <td>1.724779</td>\n",
              "      <td>1.812954</td>\n",
              "      <td>-2.232252</td>\n",
              "      <td>-1.412803</td>\n",
              "      <td>0.178731</td>\n",
              "      <td>2.156042</td>\n",
              "      <td>-0.209385</td>\n",
              "      <td>1.255649</td>\n",
              "      <td>0.364530</td>\n",
              "      <td>99.99</td>\n",
              "      <td>1.0</td>\n",
              "    </tr>\n",
              "    <tr>\n",
              "      <th>17480</th>\n",
              "      <td>28755</td>\n",
              "      <td>-30.552380</td>\n",
              "      <td>16.713389</td>\n",
              "      <td>-31.103685</td>\n",
              "      <td>6.534984</td>\n",
              "      <td>-22.105532</td>\n",
              "      <td>-4.977692</td>\n",
              "      <td>-20.371514</td>\n",
              "      <td>20.007208</td>\n",
              "      <td>-3.565738</td>\n",
              "      <td>-7.731071</td>\n",
              "      <td>3.829427</td>\n",
              "      <td>-5.314332</td>\n",
              "      <td>1.446930</td>\n",
              "      <td>-4.579264</td>\n",
              "      <td>-0.142299</td>\n",
              "      <td>-4.997848</td>\n",
              "      <td>-10.961410</td>\n",
              "      <td>-4.641482</td>\n",
              "      <td>0.567056</td>\n",
              "      <td>1.733644</td>\n",
              "      <td>1.816520</td>\n",
              "      <td>-2.288686</td>\n",
              "      <td>-1.460544</td>\n",
              "      <td>0.183179</td>\n",
              "      <td>2.208209</td>\n",
              "      <td>-0.208824</td>\n",
              "      <td>1.232636</td>\n",
              "      <td>0.356660</td>\n",
              "      <td>99.99</td>\n",
              "      <td>1.0</td>\n",
              "    </tr>\n",
              "  </tbody>\n",
              "</table>\n",
              "</div>"
            ],
            "text/plain": [
              "        Time         V1         V2  ...       V28  Amount  Class\n",
              "17317  28625 -27.848181  15.598193  ...  0.388090   99.99    1.0\n",
              "17366  28658 -28.524268  15.876923  ...  0.380246   99.99    1.0\n",
              "17407  28692 -29.200329  16.155701  ...  0.372393   99.99    1.0\n",
              "17453  28726 -29.876366  16.434525  ...  0.364530   99.99    1.0\n",
              "17480  28755 -30.552380  16.713389  ...  0.356660   99.99    1.0\n",
              "\n",
              "[5 rows x 31 columns]"
            ]
          },
          "metadata": {},
          "execution_count": 16
        }
      ]
    },
    {
      "cell_type": "code",
      "metadata": {
        "colab": {
          "base_uri": "https://localhost:8080/"
        },
        "id": "G0XUkVF7rQal",
        "outputId": "97182f0d-6f06-4233-d02d-1342c8e23671"
      },
      "source": [
        "new_dataset['Class'].value_counts"
      ],
      "execution_count": 17,
      "outputs": [
        {
          "output_type": "execute_result",
          "data": {
            "text/plain": [
              "<bound method IndexOpsMixin.value_counts of 2640     0.0\n",
              "14215    0.0\n",
              "3946     0.0\n",
              "3059     0.0\n",
              "16670    0.0\n",
              "        ... \n",
              "17317    1.0\n",
              "17366    1.0\n",
              "17407    1.0\n",
              "17453    1.0\n",
              "17480    1.0\n",
              "Name: Class, Length: 573, dtype: float64>"
            ]
          },
          "metadata": {},
          "execution_count": 17
        }
      ]
    },
    {
      "cell_type": "code",
      "metadata": {
        "colab": {
          "base_uri": "https://localhost:8080/",
          "height": 162
        },
        "id": "FtBiry4QrT_2",
        "outputId": "94167336-3f8b-45e4-fe21-6abe7689358d"
      },
      "source": [
        "new_dataset.groupby('Class').mean()"
      ],
      "execution_count": 18,
      "outputs": [
        {
          "output_type": "execute_result",
          "data": {
            "text/html": [
              "<div>\n",
              "<style scoped>\n",
              "    .dataframe tbody tr th:only-of-type {\n",
              "        vertical-align: middle;\n",
              "    }\n",
              "\n",
              "    .dataframe tbody tr th {\n",
              "        vertical-align: top;\n",
              "    }\n",
              "\n",
              "    .dataframe thead th {\n",
              "        text-align: right;\n",
              "    }\n",
              "</style>\n",
              "<table border=\"1\" class=\"dataframe\">\n",
              "  <thead>\n",
              "    <tr style=\"text-align: right;\">\n",
              "      <th></th>\n",
              "      <th>Time</th>\n",
              "      <th>V1</th>\n",
              "      <th>V2</th>\n",
              "      <th>V3</th>\n",
              "      <th>V4</th>\n",
              "      <th>V5</th>\n",
              "      <th>V6</th>\n",
              "      <th>V7</th>\n",
              "      <th>V8</th>\n",
              "      <th>V9</th>\n",
              "      <th>V10</th>\n",
              "      <th>V11</th>\n",
              "      <th>V12</th>\n",
              "      <th>V13</th>\n",
              "      <th>V14</th>\n",
              "      <th>V15</th>\n",
              "      <th>V16</th>\n",
              "      <th>V17</th>\n",
              "      <th>V18</th>\n",
              "      <th>V19</th>\n",
              "      <th>V20</th>\n",
              "      <th>V21</th>\n",
              "      <th>V22</th>\n",
              "      <th>V23</th>\n",
              "      <th>V24</th>\n",
              "      <th>V25</th>\n",
              "      <th>V26</th>\n",
              "      <th>V27</th>\n",
              "      <th>V28</th>\n",
              "      <th>Amount</th>\n",
              "    </tr>\n",
              "    <tr>\n",
              "      <th>Class</th>\n",
              "      <th></th>\n",
              "      <th></th>\n",
              "      <th></th>\n",
              "      <th></th>\n",
              "      <th></th>\n",
              "      <th></th>\n",
              "      <th></th>\n",
              "      <th></th>\n",
              "      <th></th>\n",
              "      <th></th>\n",
              "      <th></th>\n",
              "      <th></th>\n",
              "      <th></th>\n",
              "      <th></th>\n",
              "      <th></th>\n",
              "      <th></th>\n",
              "      <th></th>\n",
              "      <th></th>\n",
              "      <th></th>\n",
              "      <th></th>\n",
              "      <th></th>\n",
              "      <th></th>\n",
              "      <th></th>\n",
              "      <th></th>\n",
              "      <th></th>\n",
              "      <th></th>\n",
              "      <th></th>\n",
              "      <th></th>\n",
              "      <th></th>\n",
              "      <th></th>\n",
              "    </tr>\n",
              "  </thead>\n",
              "  <tbody>\n",
              "    <tr>\n",
              "      <th>0.0</th>\n",
              "      <td>14153.971545</td>\n",
              "      <td>-0.252049</td>\n",
              "      <td>0.245785</td>\n",
              "      <td>0.783253</td>\n",
              "      <td>0.292860</td>\n",
              "      <td>-0.145323</td>\n",
              "      <td>0.093266</td>\n",
              "      <td>-0.118899</td>\n",
              "      <td>0.063283</td>\n",
              "      <td>0.671590</td>\n",
              "      <td>-0.170581</td>\n",
              "      <td>0.816968</td>\n",
              "      <td>-1.213868</td>\n",
              "      <td>0.696653</td>\n",
              "      <td>0.728566</td>\n",
              "      <td>-0.061755</td>\n",
              "      <td>0.065234</td>\n",
              "      <td>0.319691</td>\n",
              "      <td>-0.031669</td>\n",
              "      <td>-0.059407</td>\n",
              "      <td>0.009045</td>\n",
              "      <td>-0.088004</td>\n",
              "      <td>-0.145718</td>\n",
              "      <td>-0.016504</td>\n",
              "      <td>0.047383</td>\n",
              "      <td>0.103930</td>\n",
              "      <td>0.031292</td>\n",
              "      <td>0.009624</td>\n",
              "      <td>0.021275</td>\n",
              "      <td>65.310610</td>\n",
              "    </tr>\n",
              "    <tr>\n",
              "      <th>1.0</th>\n",
              "      <td>16833.074074</td>\n",
              "      <td>-9.315066</td>\n",
              "      <td>6.779465</td>\n",
              "      <td>-13.052870</td>\n",
              "      <td>6.451318</td>\n",
              "      <td>-6.557541</td>\n",
              "      <td>-2.602613</td>\n",
              "      <td>-9.012856</td>\n",
              "      <td>4.730365</td>\n",
              "      <td>-3.087651</td>\n",
              "      <td>-7.499402</td>\n",
              "      <td>6.173253</td>\n",
              "      <td>-9.366936</td>\n",
              "      <td>0.530956</td>\n",
              "      <td>-8.907345</td>\n",
              "      <td>-0.187449</td>\n",
              "      <td>-5.282956</td>\n",
              "      <td>-8.522760</td>\n",
              "      <td>-3.021430</td>\n",
              "      <td>0.395198</td>\n",
              "      <td>0.756424</td>\n",
              "      <td>0.549752</td>\n",
              "      <td>-0.423495</td>\n",
              "      <td>-0.398104</td>\n",
              "      <td>-0.277836</td>\n",
              "      <td>0.355688</td>\n",
              "      <td>0.177616</td>\n",
              "      <td>0.940693</td>\n",
              "      <td>0.090007</td>\n",
              "      <td>98.105926</td>\n",
              "    </tr>\n",
              "  </tbody>\n",
              "</table>\n",
              "</div>"
            ],
            "text/plain": [
              "               Time        V1        V2  ...       V27       V28     Amount\n",
              "Class                                    ...                               \n",
              "0.0    14153.971545 -0.252049  0.245785  ...  0.009624  0.021275  65.310610\n",
              "1.0    16833.074074 -9.315066  6.779465  ...  0.940693  0.090007  98.105926\n",
              "\n",
              "[2 rows x 30 columns]"
            ]
          },
          "metadata": {},
          "execution_count": 18
        }
      ]
    },
    {
      "cell_type": "markdown",
      "metadata": {
        "id": "uS5S_T69td_P"
      },
      "source": [
        "**Dataset for training**"
      ]
    },
    {
      "cell_type": "code",
      "metadata": {
        "id": "dsLy5iyCrYZO"
      },
      "source": [
        "x=new_dataset.drop(columns='Class',axis=1)\n",
        "y=new_dataset['Class']"
      ],
      "execution_count": 19,
      "outputs": []
    },
    {
      "cell_type": "code",
      "metadata": {
        "colab": {
          "base_uri": "https://localhost:8080/"
        },
        "id": "eh7X0_EtrbUd",
        "outputId": "5e03faf4-bc10-4877-d17c-2c00d8a9e3d2"
      },
      "source": [
        "print(x)"
      ],
      "execution_count": 20,
      "outputs": [
        {
          "output_type": "stream",
          "name": "stdout",
          "text": [
            "        Time         V1         V2  ...       V27       V28  Amount\n",
            "2640    2173  -0.627478   1.258686  ...  0.158268  0.233503   10.41\n",
            "14215  25260   0.646577  -2.011435  ...  0.016514  0.090939  356.15\n",
            "3946    3564   1.235832   0.541397  ...  0.016448  0.010002    1.00\n",
            "3059    2619   1.195016   0.203954  ... -0.012800  0.018586    1.29\n",
            "16670  28034   1.256862  -0.629397  ... -0.066988  0.009852   47.80\n",
            "...      ...        ...        ...  ...       ...       ...     ...\n",
            "17317  28625 -27.848181  15.598193  ...  1.324809  0.388090   99.99\n",
            "17366  28658 -28.524268  15.876923  ...  1.301734  0.380246   99.99\n",
            "17407  28692 -29.200329  16.155701  ...  1.278681  0.372393   99.99\n",
            "17453  28726 -29.876366  16.434525  ...  1.255649  0.364530   99.99\n",
            "17480  28755 -30.552380  16.713389  ...  1.232636  0.356660   99.99\n",
            "\n",
            "[573 rows x 30 columns]\n"
          ]
        }
      ]
    },
    {
      "cell_type": "code",
      "metadata": {
        "colab": {
          "base_uri": "https://localhost:8080/"
        },
        "id": "lkNq6Yo7rda1",
        "outputId": "c2b3cabd-bb0c-41e5-ea69-ad9c8a5f6f2b"
      },
      "source": [
        "print(y)"
      ],
      "execution_count": 21,
      "outputs": [
        {
          "output_type": "stream",
          "name": "stdout",
          "text": [
            "2640     0.0\n",
            "14215    0.0\n",
            "3946     0.0\n",
            "3059     0.0\n",
            "16670    0.0\n",
            "        ... \n",
            "17317    1.0\n",
            "17366    1.0\n",
            "17407    1.0\n",
            "17453    1.0\n",
            "17480    1.0\n",
            "Name: Class, Length: 573, dtype: float64\n"
          ]
        }
      ]
    },
    {
      "cell_type": "code",
      "metadata": {
        "id": "NVBHJy-sriko"
      },
      "source": [
        "x_train,x_test,y_train,y_test=train_test_split(x,y,test_size=0.2,stratify=y,random_state=2)"
      ],
      "execution_count": 22,
      "outputs": []
    },
    {
      "cell_type": "code",
      "metadata": {
        "colab": {
          "base_uri": "https://localhost:8080/"
        },
        "id": "-uAGoRO0rlnu",
        "outputId": "a8b20fee-9dc9-4ce9-feea-93c5a7952d1e"
      },
      "source": [
        "print(x.shape,x_train.shape,x_test.shape)"
      ],
      "execution_count": 23,
      "outputs": [
        {
          "output_type": "stream",
          "name": "stdout",
          "text": [
            "(573, 30) (458, 30) (115, 30)\n"
          ]
        }
      ]
    },
    {
      "cell_type": "markdown",
      "metadata": {
        "id": "mUh3nMIatpqk"
      },
      "source": [
        "**Training Model:LogisticRegression**"
      ]
    },
    {
      "cell_type": "code",
      "metadata": {
        "id": "-va2gcYorovi"
      },
      "source": [
        "model=LogisticRegression()"
      ],
      "execution_count": 28,
      "outputs": []
    },
    {
      "cell_type": "code",
      "metadata": {
        "colab": {
          "base_uri": "https://localhost:8080/"
        },
        "id": "BpY8OU1artWS",
        "outputId": "a5941fe6-300a-4b55-b0d0-eaecf698e4bb"
      },
      "source": [
        "model.fit(x_train,y_train)"
      ],
      "execution_count": 29,
      "outputs": [
        {
          "output_type": "stream",
          "name": "stderr",
          "text": [
            "/usr/local/lib/python3.7/dist-packages/sklearn/linear_model/_logistic.py:940: ConvergenceWarning: lbfgs failed to converge (status=1):\n",
            "STOP: TOTAL NO. of ITERATIONS REACHED LIMIT.\n",
            "\n",
            "Increase the number of iterations (max_iter) or scale the data as shown in:\n",
            "    https://scikit-learn.org/stable/modules/preprocessing.html\n",
            "Please also refer to the documentation for alternative solver options:\n",
            "    https://scikit-learn.org/stable/modules/linear_model.html#logistic-regression\n",
            "  extra_warning_msg=_LOGISTIC_SOLVER_CONVERGENCE_MSG)\n"
          ]
        },
        {
          "output_type": "execute_result",
          "data": {
            "text/plain": [
              "LogisticRegression(C=1.0, class_weight=None, dual=False, fit_intercept=True,\n",
              "                   intercept_scaling=1, l1_ratio=None, max_iter=100,\n",
              "                   multi_class='auto', n_jobs=None, penalty='l2',\n",
              "                   random_state=None, solver='lbfgs', tol=0.0001, verbose=0,\n",
              "                   warm_start=False)"
            ]
          },
          "metadata": {},
          "execution_count": 29
        }
      ]
    },
    {
      "cell_type": "markdown",
      "metadata": {
        "id": "oaEhjEZvt68H"
      },
      "source": [
        "**Model prediction using training**"
      ]
    },
    {
      "cell_type": "code",
      "metadata": {
        "colab": {
          "base_uri": "https://localhost:8080/"
        },
        "id": "dDTrEF7irw-7",
        "outputId": "7d6d58f0-6319-47b7-f351-4bb910077034"
      },
      "source": [
        "x_train_prediction=model.predict(x_train)\n",
        "training_data_accuracy=accuracy_score(x_train_prediction,y_train)\n",
        "print('accuracy on training data:',training_data_accuracy)"
      ],
      "execution_count": 30,
      "outputs": [
        {
          "output_type": "stream",
          "name": "stdout",
          "text": [
            "accuracy on training data: 0.9759825327510917\n"
          ]
        }
      ]
    },
    {
      "cell_type": "markdown",
      "metadata": {
        "id": "nVBMUT-uuAzH"
      },
      "source": [
        "**Model prediction using testing**"
      ]
    },
    {
      "cell_type": "code",
      "metadata": {
        "colab": {
          "base_uri": "https://localhost:8080/"
        },
        "id": "4eCnr1vyr6RB",
        "outputId": "dfff9a17-b850-4153-91bc-4dc03fb82f2f"
      },
      "source": [
        "x_test_prediction=model.predict(x_test)\n",
        "test_data_accuracy=accuracy_score(x_test_prediction,y_test)\n",
        "print('accuracy score on test data:',test_data_accuracy)"
      ],
      "execution_count": 31,
      "outputs": [
        {
          "output_type": "stream",
          "name": "stdout",
          "text": [
            "accuracy score on test data: 0.9217391304347826\n"
          ]
        }
      ]
    }
  ]
}